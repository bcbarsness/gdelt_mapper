{
 "cells": [
  {
   "cell_type": "code",
   "execution_count": null,
   "metadata": {},
   "outputs": [],
   "source": [
    "from datetime import datetime, timedelta\n",
    "import matplotlib.pyplot as plt\n",
    "import cartopy.crs as ccrs\n",
    "import pandas as pd\n",
    "from dateutil import rrule\n",
    "from datetime import datetime, timedelta\n",
    "import random\n",
    "import xlrd\n",
    "%matplotlib inline\n",
    "#%matplotlib notebook"
   ]
  },
  {
   "cell_type": "code",
   "execution_count": null,
   "metadata": {},
   "outputs": [],
   "source": [
    "!pwd\n"
   ]
  },
  {
   "cell_type": "code",
   "execution_count": null,
   "metadata": {},
   "outputs": [],
   "source": [
    "#df = pd.read_csv(\"test.csv\")\n",
    "#df = pd.read_csv(\"deviations.csv\")\n",
    "df = pd.read_excel(\"deviations_actors_mw.xlsx\")\n",
    "# convert the graduation date column to datetime objects\n",
    "#df[\"Grad Date\"] = datetime.strptime(df['MonthYear'], \"%Y%m\").date()\n",
    "df[\"MonthYear\"] = pd.to_datetime(df[\"MonthYear\"], format='%Y%m')\n",
    "#df[\"Count\"] = pd.to_numeric(df[\"Count\"])\n",
    "df[\"size\"] = pd.to_numeric(df[\"size\"])\n",
    "df.dropna(subset=['Actor2Code', 'Actor2Geo_Lat', 'Actor2Geo_Long'], inplace=True)"
   ]
  },
  {
   "cell_type": "code",
   "execution_count": null,
   "metadata": {},
   "outputs": [],
   "source": [
    "df.head()"
   ]
  },
  {
   "cell_type": "code",
   "execution_count": null,
   "metadata": {},
   "outputs": [],
   "source": [
    "df.shape"
   ]
  },
  {
   "cell_type": "code",
   "execution_count": null,
   "metadata": {},
   "outputs": [],
   "source": [
    "def make_events_map(date, data, ax=None, resolution='low'):\n",
    "    \n",
    "    if ax is None:\n",
    "        fig = plt.figure(figsize=(19.2, 10.8))\n",
    "        ax = plt.axes(projection=ccrs.Mercator(central_longitude=0,\n",
    "                                               min_latitude=-65,\n",
    "                                               max_latitude=70))\n",
    "    \n",
    "    ax.background_img(name='ne_shaded', resolution=resolution)\n",
    "    #ax.background_img(name='BM', resolution=resolution)\n",
    "    ax.set_extent([-170, 179, -65, 70], crs=ccrs.PlateCarree())\n",
    "    reports = data[data['MonthYear'] == date] \n",
    "    \n",
    "    ### rest of the code\n",
    "    # Define colors for each class of event\n",
    "    colors = {1: '#02b3e4',\n",
    "              2: '#f95c3c' ,\n",
    "              3: '#27C155', #'#ff5483',\n",
    "              4: '#ecc81a'}\n",
    "\n",
    "    for index, report in reports.iterrows():\n",
    "        \n",
    "        lat = report['Actor2Geo_Lat'] #+ random.uniform(-1, 1)\n",
    "        long = report['Actor2Geo_Long'] #+ random.uniform(-1, 1)\n",
    "        size = report['size'] * 1000\n",
    "\n",
    "        ax.scatter(long, lat, s=size,color=colors[report['Class']], alpha=0.5, transform=ccrs.PlateCarree())\n",
    "\n",
    "    fontname = 'Open Sans'\n",
    "    fontsize = 28\n",
    "    # Positions for the date and grad counter\n",
    "    date_x = -10 #-53  \n",
    "    date_y = -50\n",
    "    date_spacing = 65\n",
    "    # Positions for the event types\n",
    "    name_x = -70\n",
    "    name_y = -60      \n",
    "    name_spacing = {classes[1]: 0,\n",
    "                    classes[2]: 55,\n",
    "                    classes[3]: 2*55, #1.9*55,\n",
    "                    classes[4]: 3*55}\n",
    "    # Date text\n",
    "    ax.text(date_x, date_y, \n",
    "            f\"{date.strftime('%b, %Y')}\", \n",
    "            color='white',\n",
    "            fontname=fontname, fontsize=fontsize*1.3,\n",
    "            transform=ccrs.PlateCarree())\n",
    "    # Total grad counts\n",
    "    #ax.text(date_x + date_spacing, date_y, \n",
    "    #        \"GRADUATES\", color='white',\n",
    "    #        fontname=fontname, fontsize=fontsize,\n",
    "    #        transform=ccrs.PlateCarree())\n",
    "    #ax.text(date_x + date_spacing*1.7, date_y, \n",
    "    #        f\"{grads.groupby(['Long', 'Lat']).count()['Class'].sum()}\",\n",
    "    #        color='white', ha='left',\n",
    "    #        fontname=fontname, fontsize=fontsize*1.3,\n",
    "    #        transform=ccrs.PlateCarree())\n",
    "    for idx, event_name in enumerate([classes[1], classes[2], classes[3], classes[4]]):\n",
    "        ax.text(name_x + name_spacing[event_name], \n",
    "                name_y, \n",
    "                event_name.upper(), ha='center',\n",
    "                fontname=fontname, fontsize=fontsize*0.6,\n",
    "                color=colors[idx+1],\n",
    "                transform=ccrs.PlateCarree())\n",
    "\n",
    "    return ax\n",
    "\n",
    "classes = {1: 'Verbal Cooperation',\n",
    "           2: 'Verbal Conflict',\n",
    "           3: 'Material Cooperation',\n",
    "           4: 'Material Conflict'}\n",
    "\n",
    "start_date = datetime(2015, 1, 1)\n",
    "#end_date = datetime(2015, 3, 1)\n",
    "end_date = datetime(2019, 2, 1)\n",
    "fig = plt.figure(figsize=(19.2, 10.8))\n",
    "ax = plt.axes(projection=ccrs.Mercator(central_longitude=0,\n",
    "                                       min_latitude=-65,\n",
    "                                       max_latitude=70))\n",
    "# Generate an image for each month between start_date and end_date\n",
    "\n",
    "x = 1\n",
    "for dt in rrule.rrule(rrule.MONTHLY, dtstart=start_date, until=end_date):\n",
    "    print(x,dt)\n",
    "    ax = make_events_map(dt, df, ax=ax, resolution='low')\n",
    "    fig.tight_layout(pad=-0.5)\n",
    "    fig.savefig(f\"frames/Deviation/frame_{x:04d}.png\", dpi=100,     \n",
    "                frameon=False, facecolor='black')\n",
    "    x=x+1\n",
    "    ax.clear()"
   ]
  },
  {
   "cell_type": "code",
   "execution_count": null,
   "metadata": {},
   "outputs": [],
   "source": []
  }
 ],
 "metadata": {
  "kernelspec": {
   "display_name": "Python (gdelt3)",
   "language": "python",
   "name": "gdelt3"
  },
  "language_info": {
   "codemirror_mode": {
    "name": "ipython",
    "version": 3
   },
   "file_extension": ".py",
   "mimetype": "text/x-python",
   "name": "python",
   "nbconvert_exporter": "python",
   "pygments_lexer": "ipython3",
   "version": "3.6.8"
  }
 },
 "nbformat": 4,
 "nbformat_minor": 2
}
