{
 "cells": [
  {
   "cell_type": "code",
   "execution_count": 1,
   "metadata": {},
   "outputs": [],
   "source": [
    "from datetime import datetime, timedelta\n",
    "import matplotlib.pyplot as plt\n",
    "import cartopy.crs as ccrs\n",
    "import pandas as pd\n",
    "from dateutil import rrule\n",
    "from datetime import datetime, timedelta\n",
    "import random\n",
    "import xlrd\n",
    "%matplotlib inline\n",
    "#%matplotlib notebook"
   ]
  },
  {
   "cell_type": "code",
   "execution_count": 2,
   "metadata": {},
   "outputs": [
    {
     "name": "stdout",
     "output_type": "stream",
     "text": [
      "/Users/bbarsness/code/map_gdelt_events\r\n"
     ]
    }
   ],
   "source": [
    "!pwd\n"
   ]
  },
  {
   "cell_type": "code",
   "execution_count": 3,
   "metadata": {},
   "outputs": [],
   "source": [
    "#df = pd.read_csv(\"test.csv\")\n",
    "#df = pd.read_csv(\"deviations.csv\")\n",
    "df = pd.read_excel(\"deviations_actors_mw.xlsx\")\n",
    "# convert the graduation date column to datetime objects\n",
    "#df[\"Grad Date\"] = datetime.strptime(df['MonthYear'], \"%Y%m\").date()\n",
    "df[\"MonthYear\"] = pd.to_datetime(df[\"MonthYear\"], format='%Y%m')\n",
    "#df[\"Count\"] = pd.to_numeric(df[\"Count\"])\n",
    "df[\"size\"] = pd.to_numeric(df[\"size\"])\n",
    "df.dropna(subset=['Actor2Code', 'Actor2Geo_Lat', 'Actor2Geo_Long'], inplace=True)"
   ]
  },
  {
   "cell_type": "code",
   "execution_count": 4,
   "metadata": {},
   "outputs": [
    {
     "data": {
      "text/html": [
       "<div>\n",
       "<style scoped>\n",
       "    .dataframe tbody tr th:only-of-type {\n",
       "        vertical-align: middle;\n",
       "    }\n",
       "\n",
       "    .dataframe tbody tr th {\n",
       "        vertical-align: top;\n",
       "    }\n",
       "\n",
       "    .dataframe thead th {\n",
       "        text-align: right;\n",
       "    }\n",
       "</style>\n",
       "<table border=\"1\" class=\"dataframe\">\n",
       "  <thead>\n",
       "    <tr style=\"text-align: right;\">\n",
       "      <th></th>\n",
       "      <th>Class</th>\n",
       "      <th>MonthYear</th>\n",
       "      <th>Actor2Code</th>\n",
       "      <th>Count</th>\n",
       "      <th>med</th>\n",
       "      <th>absdev</th>\n",
       "      <th>normalizer</th>\n",
       "      <th>size</th>\n",
       "      <th>Actor2Geo_Lat</th>\n",
       "      <th>Actor2Geo_Long</th>\n",
       "    </tr>\n",
       "  </thead>\n",
       "  <tbody>\n",
       "    <tr>\n",
       "      <th>74</th>\n",
       "      <td>1</td>\n",
       "      <td>2015-10-01</td>\n",
       "      <td>afa</td>\n",
       "      <td>18</td>\n",
       "      <td>3.0</td>\n",
       "      <td>15.0</td>\n",
       "      <td>173</td>\n",
       "      <td>0.086705</td>\n",
       "      <td>35.0000</td>\n",
       "      <td>105.000</td>\n",
       "    </tr>\n",
       "    <tr>\n",
       "      <th>75</th>\n",
       "      <td>1</td>\n",
       "      <td>2017-07-01</td>\n",
       "      <td>afa</td>\n",
       "      <td>11</td>\n",
       "      <td>3.0</td>\n",
       "      <td>8.0</td>\n",
       "      <td>173</td>\n",
       "      <td>0.046243</td>\n",
       "      <td>35.0000</td>\n",
       "      <td>105.000</td>\n",
       "    </tr>\n",
       "    <tr>\n",
       "      <th>76</th>\n",
       "      <td>1</td>\n",
       "      <td>2018-09-01</td>\n",
       "      <td>afa</td>\n",
       "      <td>11</td>\n",
       "      <td>3.0</td>\n",
       "      <td>8.0</td>\n",
       "      <td>173</td>\n",
       "      <td>0.046243</td>\n",
       "      <td>35.0000</td>\n",
       "      <td>105.000</td>\n",
       "    </tr>\n",
       "    <tr>\n",
       "      <th>77</th>\n",
       "      <td>1</td>\n",
       "      <td>2016-07-01</td>\n",
       "      <td>deupty</td>\n",
       "      <td>10</td>\n",
       "      <td>1.0</td>\n",
       "      <td>9.0</td>\n",
       "      <td>12</td>\n",
       "      <td>0.750000</td>\n",
       "      <td>52.5167</td>\n",
       "      <td>13.400</td>\n",
       "    </tr>\n",
       "    <tr>\n",
       "      <th>78</th>\n",
       "      <td>1</td>\n",
       "      <td>2016-08-01</td>\n",
       "      <td>din</td>\n",
       "      <td>10</td>\n",
       "      <td>6.0</td>\n",
       "      <td>4.0</td>\n",
       "      <td>12</td>\n",
       "      <td>0.333333</td>\n",
       "      <td>39.9289</td>\n",
       "      <td>116.388</td>\n",
       "    </tr>\n",
       "  </tbody>\n",
       "</table>\n",
       "</div>"
      ],
      "text/plain": [
       "    Class  MonthYear Actor2Code  Count  med  absdev  normalizer      size  \\\n",
       "74      1 2015-10-01        afa     18  3.0    15.0         173  0.086705   \n",
       "75      1 2017-07-01        afa     11  3.0     8.0         173  0.046243   \n",
       "76      1 2018-09-01        afa     11  3.0     8.0         173  0.046243   \n",
       "77      1 2016-07-01     deupty     10  1.0     9.0          12  0.750000   \n",
       "78      1 2016-08-01        din     10  6.0     4.0          12  0.333333   \n",
       "\n",
       "    Actor2Geo_Lat  Actor2Geo_Long  \n",
       "74        35.0000         105.000  \n",
       "75        35.0000         105.000  \n",
       "76        35.0000         105.000  \n",
       "77        52.5167          13.400  \n",
       "78        39.9289         116.388  "
      ]
     },
     "execution_count": 4,
     "metadata": {},
     "output_type": "execute_result"
    }
   ],
   "source": [
    "df.head()"
   ]
  },
  {
   "cell_type": "code",
   "execution_count": 5,
   "metadata": {},
   "outputs": [
    {
     "data": {
      "text/plain": [
       "(26728, 10)"
      ]
     },
     "execution_count": 5,
     "metadata": {},
     "output_type": "execute_result"
    }
   ],
   "source": [
    "df.shape"
   ]
  },
  {
   "cell_type": "code",
   "execution_count": 6,
   "metadata": {},
   "outputs": [
    {
     "name": "stdout",
     "output_type": "stream",
     "text": [
      "47 2018-11-01 00:00:00\n"
     ]
    },
    {
     "name": "stderr",
     "output_type": "stream",
     "text": [
      "/anaconda3/envs/gdelt3/lib/python3.6/site-packages/matplotlib/font_manager.py:1241: UserWarning: findfont: Font family ['Open Sans'] not found. Falling back to DejaVu Sans.\n",
      "  (prop.get_family(), self.defaultFamily[fontext]))\n"
     ]
    },
    {
     "name": "stdout",
     "output_type": "stream",
     "text": [
      "48 2018-12-01 00:00:00\n",
      "49 2019-01-01 00:00:00\n",
      "50 2019-02-01 00:00:00\n"
     ]
    },
    {
     "data": {
      "image/png": "[encoded data removed]",
      "text/plain": [
       "<Figure size 1382.4x777.6 with 1 Axes>"
      ]
     },
     "metadata": {
      "needs_background": "light"
     },
     "output_type": "display_data"
    }
   ],
   "source": [
    "def make_events_map(date, data, ax=None, resolution='low'):\n",
    "    \n",
    "    if ax is None:\n",
    "        fig = plt.figure(figsize=(19.2, 10.8))\n",
    "        ax = plt.axes(projection=ccrs.Mercator(central_longitude=0,\n",
    "                                               min_latitude=-65,\n",
    "                                               max_latitude=70))\n",
    "    \n",
    "    ax.background_img(name='ne_shaded', resolution=resolution)\n",
    "    #ax.background_img(name='BM', resolution=resolution)\n",
    "    ax.set_extent([-170, 179, -65, 70], crs=ccrs.PlateCarree())\n",
    "    reports = data[data['MonthYear'] == date] \n",
    "    \n",
    "    ### rest of the code\n",
    "    # Define colors for each class of event\n",
    "    colors = {1: '#02b3e4',\n",
    "              2: '#f95c3c' ,\n",
    "              3: '#27C155', #'#ff5483',\n",
    "              4: '#ecc81a'}\n",
    "\n",
    "    for index, report in reports.iterrows():\n",
    "        \n",
    "        lat = report['Actor2Geo_Lat'] #+ random.uniform(-1, 1)\n",
    "        long = report['Actor2Geo_Long'] #+ random.uniform(-1, 1)\n",
    "        size = report['size'] * 1000\n",
    "\n",
    "        ax.scatter(long, lat, s=size,color=colors[report['Class']], alpha=0.5, transform=ccrs.PlateCarree())\n",
    "\n",
    "    fontname = 'Open Sans'\n",
    "    fontsize = 28\n",
    "    # Positions for the date and grad counter\n",
    "    date_x = -10 #-53  \n",
    "    date_y = -50\n",
    "    date_spacing = 65\n",
    "    # Positions for the event types\n",
    "    name_x = -70\n",
    "    name_y = -60      \n",
    "    name_spacing = {classes[1]: 0,\n",
    "                    classes[2]: 55,\n",
    "                    classes[3]: 2*55, #1.9*55,\n",
    "                    classes[4]: 3*55}\n",
    "    # Date text\n",
    "    ax.text(date_x, date_y, \n",
    "            f\"{date.strftime('%b, %Y')}\", \n",
    "            color='white',\n",
    "            fontname=fontname, fontsize=fontsize*1.3,\n",
    "            transform=ccrs.PlateCarree())\n",
    "    # Total grad counts\n",
    "    #ax.text(date_x + date_spacing, date_y, \n",
    "    #        \"GRADUATES\", color='white',\n",
    "    #        fontname=fontname, fontsize=fontsize,\n",
    "    #        transform=ccrs.PlateCarree())\n",
    "    #ax.text(date_x + date_spacing*1.7, date_y, \n",
    "    #        f\"{grads.groupby(['Long', 'Lat']).count()['Class'].sum()}\",\n",
    "    #        color='white', ha='left',\n",
    "    #        fontname=fontname, fontsize=fontsize*1.3,\n",
    "    #        transform=ccrs.PlateCarree())\n",
    "    for idx, event_name in enumerate([classes[1], classes[2], classes[3], classes[4]]):\n",
    "        ax.text(name_x + name_spacing[event_name], \n",
    "                name_y, \n",
    "                event_name.upper(), ha='center',\n",
    "                fontname=fontname, fontsize=fontsize*0.6,\n",
    "                color=colors[idx+1],\n",
    "                transform=ccrs.PlateCarree())\n",
    "\n",
    "    return ax\n",
    "\n",
    "classes = {1: 'Verbal Cooperation',\n",
    "           2: 'Verbal Conflict',\n",
    "           3: 'Material Cooperation',\n",
    "           4: 'Material Conflict'}\n",
    "\n",
    "start_date = datetime(2015, 1, 1)\n",
    "#end_date = datetime(2015, 3, 1)\n",
    "end_date = datetime(2019, 2, 1)\n",
    "fig = plt.figure(figsize=(19.2, 10.8))\n",
    "ax = plt.axes(projection=ccrs.Mercator(central_longitude=0,\n",
    "                                       min_latitude=-65,\n",
    "                                       max_latitude=70))\n",
    "# Generate an image for each month between start_date and end_date\n",
    "\n",
    "x = 1\n",
    "for dt in rrule.rrule(rrule.MONTHLY, dtstart=start_date, until=end_date):\n",
    "    print(x,dt)\n",
    "    ax = make_events_map(dt, df, ax=ax, resolution='low')\n",
    "    fig.tight_layout(pad=-0.5)\n",
    "    fig.savefig(f\"frames/Deviation/frame_{x:04d}.png\", dpi=100,     \n",
    "                frameon=False, facecolor='black')\n",
    "    x=x+1\n",
    "    ax.clear()"
   ]
  },
  {
   "cell_type": "code",
   "execution_count": null,
   "metadata": {},
   "outputs": [],
   "source": []
  }
 ],
 "metadata": {
  "kernelspec": {
   "display_name": "Python (gdelt3)",
   "language": "python",
   "name": "gdelt3"
  },
  "language_info": {
   "codemirror_mode": {
    "name": "ipython",
    "version": 3
   },
   "file_extension": ".py",
   "mimetype": "text/x-python",
   "name": "python",
   "nbconvert_exporter": "python",
   "pygments_lexer": "ipython3",
   "version": "3.6.8"
  }
 },
 "nbformat": 4,
 "nbformat_minor": 2
}
